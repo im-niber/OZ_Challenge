{
 "cells": [
  {
   "cell_type": "markdown",
   "metadata": {},
   "source": [
    "<span style=\"font-size:100%\">\n",
    "\n",
    "수업은 모두 열심히 들으셨나요?\n",
    "\n",
    "간혹 강의에서 언급되지 않은 내용이 문제로 나올 수 있습니다.<br>\n",
    "그럴땐 강의 내용 외 문제는 구글링을 통해 해결해주세요<br></span>\n",
    "<span style=\"font-size:80%\">\n",
    "(구글링 또한 개발자가 갖쳐야할 역량 중에 하나랍니다 😊)\n",
    "</span>\n",
    "\n",
    "---"
   ]
  },
  {
   "cell_type": "markdown",
   "metadata": {},
   "source": [
    "<span style=\"font-size:80%\">[문제1]<br><br></span>\n",
    "```인터프리트 방식에 대해 설명하고 2개 이상의 장점을 설명해주세요```"
   ]
  },
  {
   "cell_type": "markdown",
   "metadata": {},
   "source": [
    "<span style=\"color:red\">답변</span>"
   ]
  },
  {
   "cell_type": "markdown",
   "metadata": {},
   "source": [
    "한 문장씩 읽고 번역 후 실행하는 방식.\n",
    "\n",
    "수정한 사항이 바로 반영되고 오류가 있다면 해당 지점에서 멈추므로 빠르게 오류를 파악할 수 있다는 장점이있다. 또 배우기 쉽다는 장점이 있다"
   ]
  },
  {
   "cell_type": "markdown",
   "metadata": {},
   "source": [
    "---"
   ]
  },
  {
   "cell_type": "markdown",
   "metadata": {},
   "source": [
    "<span style=\"font-size:80%\">[문제2]<br><br></span>\n",
    "```동적 타입 방식의 장점과 단점을 간략히 설명해주세요```"
   ]
  },
  {
   "cell_type": "markdown",
   "metadata": {},
   "source": [
    "<span style=\"color:red\">답변</span>"
   ]
  },
  {
   "cell_type": "markdown",
   "metadata": {},
   "source": [
    "실행시에 타입을 결정하는 방식인 동적 타입의 장점으로는 타입 없이 변수만 선언하여 값을 저장할 수 있습니다.\n",
    "\n",
    "또 런타임까지 타입에 대한 결정을 미룰수 있기 때문에 많은 선택의 여지가 있습니다.\n",
    "\n",
    "단점으로는 실행 도중에 예상하지 못한 타입이 들어와 타입 에러를 발생하는 경우가 종종 발생합니다."
   ]
  },
  {
   "cell_type": "markdown",
   "metadata": {},
   "source": [
    "---"
   ]
  },
  {
   "cell_type": "markdown",
   "metadata": {},
   "source": [
    "<span style=\"font-size:80%\">[문제3]<br><br></span>\n",
    "```Python으로 정적타입 방식의 코드를 작성할 수 있는 방법을 구글링을 통해 검색 후 설명해주세요```"
   ]
  },
  {
   "cell_type": "markdown",
   "metadata": {},
   "source": [
    "<span style=\"color:red\">답변</span>"
   ]
  },
  {
   "cell_type": "markdown",
   "metadata": {},
   "source": [
    "파이썬의 타입힌트 기능을 사용할 수 있습니다. 변수를 선언하고 `myName: str` 이렇게 타입을 선언해주면 str이 아닌 값이 들어가면 경고 표시를 띄워줍니다\n",
    "\n",
    "타입 힌트가 있다고 해도 인터프리터의 런타임때 타입 검사를 강제하지 않으므로, 엄격한 타입 검사를 하려면 mypy 같은 정적 분석 도구를 사용하는것이 좋습니다"
   ]
  },
  {
   "cell_type": "markdown",
   "metadata": {},
   "source": [
    "---"
   ]
  },
  {
   "cell_type": "markdown",
   "metadata": {},
   "source": [
    "<span style=\"font-size:80%\">[문제4]<br><br></span>\n",
    "```프로세스와 스레드의 차이점을 설명해주세요```"
   ]
  },
  {
   "cell_type": "markdown",
   "metadata": {},
   "source": [
    "<span style=\"color:red\">답변</span>"
   ]
  },
  {
   "cell_type": "markdown",
   "metadata": {},
   "source": [
    "프로세스는 실행 중인 프로그램의 인스턴스로 고유한 주소공간을 가지며 서로 격리되어 있습니다.\n",
    "\n",
    "스레드는 프로세스 내부에서 실행되는 여러 흐름의 단위이고, 데이터와 코드를 공유하고 별도의 레지스터, 스택을 가집니다."
   ]
  },
  {
   "cell_type": "markdown",
   "metadata": {},
   "source": [
    "---"
   ]
  },
  {
   "cell_type": "markdown",
   "metadata": {},
   "source": [
    "<span style=\"font-size:80%\">[문제5]<br><br></span>\n",
    "```Python 2버전대와 3버전대의 차이를 성명해주세요```"
   ]
  },
  {
   "cell_type": "markdown",
   "metadata": {},
   "source": [
    "<span style=\"color:red\">답변</span>"
   ]
  },
  {
   "cell_type": "markdown",
   "metadata": {},
   "source": [
    "##### 문자열 포맷\n",
    "2에서는 기본적으로 ASCII 포맷이였다.\n",
    "\n",
    "3에서는 문자열은 유니코드 포맷\n",
    "\n",
    "##### 나누기\n",
    "2에서는 정수 나눗셈일 경우 가장 가까운 정수 반올림, 소수점 있을시 반올림 x\n",
    "\n",
    "3에서는 소수점 붙일 필요 없이 계산한 결과 그대로 출력"
   ]
  },
  {
   "cell_type": "markdown",
   "metadata": {},
   "source": [
    "---"
   ]
  },
  {
   "cell_type": "markdown",
   "metadata": {},
   "source": [
    "<span style=\"font-size:80%\">[문제6]<br><br></span>\n",
    "```Python에서 메모리 관리는 어떻게 이루어지는지 설명해주세요```"
   ]
  },
  {
   "cell_type": "markdown",
   "metadata": {},
   "source": [
    "<span style=\"color:red\">답변</span>"
   ]
  },
  {
   "cell_type": "markdown",
   "metadata": {},
   "source": [
    "파이썬에서 메모리 관리는 참조 카운팅 기반으로 이루어집니다. \n",
    "\n",
    "객체를 생성할 때 해당 객체를 참조하는 변수의 개수를 기준으로 메모리를 해제할지 정합니다. \n",
    "\n",
    "이 방식은 순환 참조와 같은 상황에서 메모리 누수를 발생시키는 문제가 있습니다. 이를 해결하기 위해 가비지컬렉션 기능을 제공합니다. 이 기능은 순환 참조가 발생시에만 동작하여 메모리 누수를 방지합니다.\n",
    "\n",
    "기본적으로 가비지 콜렉터는 건들지 말라고 권장합니다. "
   ]
  }
 ],
 "metadata": {
  "language_info": {
   "name": "python"
  }
 },
 "nbformat": 4,
 "nbformat_minor": 2
}
