{
  "nbformat": 4,
  "nbformat_minor": 0,
  "metadata": {
    "colab": {
      "provenance": []
    },
    "kernelspec": {
      "name": "python3",
      "display_name": "Python 3"
    },
    "language_info": {
      "name": "python"
    }
  },
  "cells": [
    {
      "cell_type": "markdown",
      "source": [
        "## Sikit-Learn 라이브러리\n",
        "- 머신러닝 라이브러리\n",
        "\n"
      ],
      "metadata": {
        "id": "Ruhe_Dch3TwC"
      }
    },
    {
      "cell_type": "code",
      "source": [
        "%pip install scikit-learn==1.0.2"
      ],
      "metadata": {
        "id": "numm829_3XED"
      },
      "execution_count": null,
      "outputs": []
    },
    {
      "cell_type": "code",
      "source": [
        "import sklearn\n",
        "print(sklearn.__version__)"
      ],
      "metadata": {
        "id": "UkRbEH1N3htT"
      },
      "execution_count": null,
      "outputs": []
    },
    {
      "cell_type": "code",
      "source": [
        "# Classfication - 꽃 분류\n",
        "from sklearn.datasets import load_iris\n",
        "import pandas as pd"
      ],
      "metadata": {
        "id": "KmASzBek3npB"
      },
      "execution_count": 3,
      "outputs": []
    },
    {
      "cell_type": "code",
      "source": [
        "iris = load_iris()\n",
        "iris.data"
      ],
      "metadata": {
        "id": "8qbAnh1i3zFl"
      },
      "execution_count": null,
      "outputs": []
    },
    {
      "cell_type": "code",
      "source": [
        "# train_test_split() -> 학습용 데이터셋과 테스트용 데이터 셋으로 분리\n",
        "from sklearn.model_selection import train_test_split\n",
        "# X_train: 학습용 피처 데이터, X_test: 테스트용 피처 데이터\n",
        "# y_train: 학습용 레이블 데이터, y_test: 테스트용 레이블 데이터\n",
        "X_train, X_test, y_train, y_test = train_test_split(iris.data, iris.target, test_size=0.2, random_state=123)\n",
        "\n",
        "y_test"
      ],
      "metadata": {
        "colab": {
          "base_uri": "https://localhost:8080/"
        },
        "id": "rIFgMf8H4VxT",
        "outputId": "3a09f924-e2e2-4fd3-cbc7-50a7428fc912"
      },
      "execution_count": 6,
      "outputs": [
        {
          "output_type": "execute_result",
          "data": {
            "text/plain": [
              "array([1, 2, 2, 1, 0, 2, 1, 0, 0, 1, 2, 0, 1, 2, 2, 2, 0, 0, 1, 0, 0, 2,\n",
              "       0, 2, 0, 0, 0, 2, 2, 0])"
            ]
          },
          "metadata": {},
          "execution_count": 6
        }
      ]
    },
    {
      "cell_type": "code",
      "source": [
        "# 학습을 위한 알고리즘을 불러옴\n",
        "from sklearn.tree import DecisionTreeClassifier # 분류 알고리즘\n",
        "\n",
        "dt_clf = DecisionTreeClassifier(random_state=123)\n",
        "dt_clf"
      ],
      "metadata": {
        "colab": {
          "base_uri": "https://localhost:8080/"
        },
        "id": "bDtAdJXc4_Tp",
        "outputId": "40d7ae7a-c570-4b75-bdd3-7b16409a7fce"
      },
      "execution_count": 9,
      "outputs": [
        {
          "output_type": "execute_result",
          "data": {
            "text/plain": [
              "DecisionTreeClassifier(random_state=123)"
            ]
          },
          "metadata": {},
          "execution_count": 9
        }
      ]
    },
    {
      "cell_type": "code",
      "source": [
        "# 학습을 진행함 => train_data (X_train, y_train) // 모의고사\n",
        "dt_clf.fit(X_train, y_train) # fit() - 학습 진행"
      ],
      "metadata": {
        "colab": {
          "base_uri": "https://localhost:8080/"
        },
        "id": "6I9XH2V15V71",
        "outputId": "69d00c6f-2f36-4ed6-ea91-a780edc82e66"
      },
      "execution_count": 10,
      "outputs": [
        {
          "output_type": "execute_result",
          "data": {
            "text/plain": [
              "DecisionTreeClassifier(random_state=123)"
            ]
          },
          "metadata": {},
          "execution_count": 10
        }
      ]
    },
    {
      "cell_type": "code",
      "source": [
        "# 시험을 치러감니다. => test_data(X_test, y_test) // 수능\n",
        "# predict() -> 예측해봐\n",
        "\n",
        "predict = dt_clf.predict(X_test)\n",
        "predict"
      ],
      "metadata": {
        "colab": {
          "base_uri": "https://localhost:8080/"
        },
        "id": "oaDac6o65gfR",
        "outputId": "887dc536-c95f-439a-8e47-3f5357932df1"
      },
      "execution_count": 11,
      "outputs": [
        {
          "output_type": "execute_result",
          "data": {
            "text/plain": [
              "array([1, 2, 2, 1, 0, 1, 1, 0, 0, 1, 2, 0, 1, 2, 2, 2, 0, 0, 1, 0, 0, 2,\n",
              "       0, 2, 0, 0, 0, 2, 2, 0])"
            ]
          },
          "metadata": {},
          "execution_count": 11
        }
      ]
    },
    {
      "cell_type": "code",
      "source": [
        "# 5. 채점 진행\n",
        "# accuracy_score()\n",
        "\n",
        "from sklearn.metrics import accuracy_score\n",
        "accuracy_score(y_test, predict) # 실제 정답, 예측값"
      ],
      "metadata": {
        "id": "rHXO_XQr53PC"
      },
      "execution_count": null,
      "outputs": []
    },
    {
      "cell_type": "code",
      "source": [
        "df = pd.DataFrame(data=X_test, columns=iris.feature_names)\n",
        "df['answer'] = y_test\n",
        "df['predict'] = predict\n",
        "df"
      ],
      "metadata": {
        "id": "qLIF7ZZf6GUb"
      },
      "execution_count": null,
      "outputs": []
    },
    {
      "cell_type": "code",
      "source": [
        "iris = load_iris()\n",
        "dt_clf = DecisionTreeClassifier(random_state=123)\n",
        "dt_clf.fit(iris.data, iris.target)\n",
        "pred = dt_clf.predict(iris.data)\n",
        "accuracy_score(iris.target, pred)"
      ],
      "metadata": {
        "id": "_OOGJ8lR60Oo"
      },
      "execution_count": null,
      "outputs": []
    },
    {
      "cell_type": "markdown",
      "source": [
        "## 교차검증\n",
        "- (1) K Fold 검증\n",
        "- (2) Stratified 검증\n",
        "- (3) cross_val"
      ],
      "metadata": {
        "id": "UgbDVlPv87CT"
      }
    },
    {
      "cell_type": "code",
      "source": [
        "# (1) KFold\n",
        "\n",
        "import numpy as np\n",
        "from sklearn.datasets import load_iris\n",
        "from sklearn.model_selection import KFold\n",
        "from sklearn.metrics import accuracy_score\n",
        "from sklearn.tree import DecisionTreeClassifier\n",
        "\n",
        "iris = load_iris()\n",
        "train_data = iris.data\n",
        "train_target = iris.target\n",
        "\n",
        "# 모델 학습 및 평가 함수 정의\n",
        "def train_and_evaluate(train_index, test_index, model, traind_data, train_target):\n",
        "    X_train, X_test = traind_data[train_index], traind_data[test_index]\n",
        "    y_train, y_test = train_target[train_index], train_target[test_index]\n",
        "\n",
        "    model.fit(X_train, y_train)\n",
        "    predict = model.predict(X_test)\n",
        "\n",
        "    accuracy = accuracy_score(y_test, predict)\n",
        "    return accuracy, X_train.shape[0], X_test.shape[0], test_index\n",
        "\n",
        "# K-Fold 교차 검증 설정\n",
        "kfold = KFold(n_splits=5)\n",
        "cv_accuracy = []\n",
        "dt_clf = DecisionTreeClassifier()\n",
        "\n",
        "for fold, (train_index, test_index) in enumerate(kfold.split(train_data), 1):\n",
        "    accuracy, train_size, test_size, test_index = train_and_evaluate(\n",
        "        train_index, test_index, dt_clf, train_data, train_target)\n",
        "    cv_accuracy.append(accuracy)\n",
        "    print(f\"Fold {fold}: Accuracy = {accuracy:.4f}, Train Size = {train_size}, Test Size = {test_size}\")\n",
        "\n",
        "print(\"최종 정확도 평균 값:\",  np.mean(cv_accuracy))"
      ],
      "metadata": {
        "id": "XGQfESQ-9bSt"
      },
      "execution_count": null,
      "outputs": []
    },
    {
      "cell_type": "code",
      "source": [
        "# (2) Stratified\n",
        "\n",
        "import numpy as np\n",
        "from sklearn.datasets import load_iris\n",
        "from sklearn.model_selection import StratifiedKFold\n",
        "from sklearn.tree import DecisionTreeClassifier\n",
        "from sklearn.metrics import accuracy_score\n",
        "\n",
        "# iris 데이터 셋 로드\n",
        "\n",
        "iris = load_iris()\n",
        "features = iris.data\n",
        "label = iris.target\n",
        "\n",
        "# 모델 초기화\n",
        "dt_clf = DecisionTreeClassifier(random_state=156)\n",
        "\n",
        "# Stratified KFold 교차 검증 설정\n",
        "skfold = StratifiedKFold(n_splits=3)\n",
        "cv_accuracy = []\n",
        "\n",
        "# Stratified KFold 교차 검증 수행\n",
        "\n",
        "for fold, (train_index, test_index) in enumerate(skfold.split(features, label), 1):\n",
        "  accuracy, train_size, test_size, test_idx = train_and_evaluate(\n",
        "      train_index, test_index, dt_clf, features, label\n",
        "  )\n",
        "  cv_accuracy.append(accuracy)\n",
        "\n",
        "  # 출력 메세지 변경\n",
        "  print(f\"{fold}번째 트레이닝\")\n",
        "  print(f\"검증 정확도: {accuracy}, 학습 데이터 크기: {train_size}, 검증 데이터 크기: {test_size}\")\n",
        "  print(f\"검증 데이터 셋 인덱스 값: {test_idx}\")\n",
        "  print(\"===\" * 10)\n",
        "\n",
        "# 교차 검증 별 정확도 및 평균 정확도 계산\n",
        "print(\"\\n최종 정확도 평균 값:\", np.mean(cv_accuracy))\n",
        "\n",
        "# 최종 정확도 평균 값: 0.9666666666666666"
      ],
      "metadata": {
        "id": "yZjc2Y-3_SVw"
      },
      "execution_count": null,
      "outputs": []
    },
    {
      "cell_type": "code",
      "source": [
        "# (3) cross_val_score\n",
        "\n",
        "from sklearn.tree import DecisionTreeClassifier\n",
        "from sklearn.model_selection import cross_val_score\n",
        "from sklearn.datasets import load_iris\n",
        "import numpy as np\n",
        "\n",
        "iris_data = load_iris()\n",
        "dt_clf = DecisionTreeClassifier(random_state=156)\n",
        "\n",
        "data = iris_data.data\n",
        "label = iris_data.target\n",
        "\n",
        "scores = cross_val_score(dt_clf, data, label, scoring=\"accuracy\", cv=5)\n",
        "\n",
        "print(\"교차 검증 별 정확도: \", np.round(scores, 5))\n",
        "print(\"평균 검증 정확도: \", np.round(np.mean(scores), 5))\n",
        "\n",
        "# 교차 검증 별 정확도:  [0.96667 0.96667 0.9     0.96667 1.     ]\n",
        "# 평균 검증 정확도:  0.96"
      ],
      "metadata": {
        "id": "ak6ib89Q_hq_"
      },
      "execution_count": null,
      "outputs": []
    },
    {
      "cell_type": "markdown",
      "source": [
        "## 데이터 인코딩\n",
        "\n",
        "- Label Encoding\n",
        "- OneHot Encoding\n",
        "- GetDeummles"
      ],
      "metadata": {
        "id": "JKMQIvzKAAvG"
      }
    },
    {
      "cell_type": "code",
      "source": [
        "from sklearn.preprocessing import LabelEncoder\n",
        "\n",
        "items = ['강남구', '서초구', '송파구', '노원구', '마포구','마포구', '용산구','용산구']\n",
        "\n",
        "encoder = LabelEncoder()\n",
        "encoder.fit(items)\n",
        "labels = encoder.transform(items)\n",
        "labels"
      ],
      "metadata": {
        "colab": {
          "base_uri": "https://localhost:8080/"
        },
        "id": "6IBPD5trATSD",
        "outputId": "9fad19f1-3158-456d-ebb5-76381e510749"
      },
      "execution_count": 24,
      "outputs": [
        {
          "output_type": "execute_result",
          "data": {
            "text/plain": [
              "array([0, 3, 4, 1, 2, 2, 5, 5])"
            ]
          },
          "metadata": {},
          "execution_count": 24
        }
      ]
    },
    {
      "cell_type": "code",
      "source": [
        "from sklearn.preprocessing import OneHotEncoder\n",
        "import numpy as np\n",
        "\n",
        "items = ['강남구', '서초구', '송파구', '노원구', '마포구','마포구', '용산구','용산구']\n",
        "\n",
        "items = np.array(items).reshape(-1,1)\n",
        "oh_encoder = OneHotEncoder()\n",
        "oh_encoder.fit(items)\n",
        "oh_labels = oh_encoder.transform(items)\n",
        "print(\"원-핫 인코딩 데이터\")\n",
        "print(oh_labels.toarray())\n",
        "print(\"원-핫 인코딩 데이터 차원\")\n",
        "print(oh_labels.shape)"
      ],
      "metadata": {
        "id": "uO6ofTCcA305"
      },
      "execution_count": null,
      "outputs": []
    },
    {
      "cell_type": "code",
      "source": [
        "# df.get_dummies()\n",
        "import pandas as pd\n",
        "df = pd.DataFrame({'items':['강남구', '서초구', '송파구', '노원구', '마포구','마포구', '용산구','용산구']})\n",
        "pd.get_dummies(df)"
      ],
      "metadata": {
        "id": "KtUv9vSNBOge"
      },
      "execution_count": null,
      "outputs": []
    },
    {
      "cell_type": "code",
      "source": [
        "import pandas as pd\n",
        "\n",
        "data = {'Fruit': ['Apple', 'Banana', 'Cherry', 'Apple', 'Cherry'],\n",
        "        'Color': ['Red', 'Yellow', 'Red', 'Green', 'Red']}\n",
        "df = pd.DataFrame(data)\n",
        "df_encoded = pd.get_dummies(df, columns=['Fruit', 'Color'], prefix=['Fruit', 'Color'])\n",
        "df_encoded"
      ],
      "metadata": {
        "id": "8hTfkjWmAK7E"
      },
      "execution_count": 28,
      "outputs": []
    }
  ]
}