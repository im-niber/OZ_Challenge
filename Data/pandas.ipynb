{
  "nbformat": 4,
  "nbformat_minor": 0,
  "metadata": {
    "colab": {
      "provenance": []
    },
    "kernelspec": {
      "name": "python3",
      "display_name": "Python 3"
    },
    "language_info": {
      "name": "python"
    }
  },
  "cells": [
    {
      "cell_type": "markdown",
      "source": [
        "1. **결측치가 있는 행을 모두 제거하세요.**\n",
        "2. **중복된 행을 제거하세요.**\n",
        "3. **'petal_length'가 5보다 큰 행만 선택하세요.**\n",
        "4. **'species'에 따라 데이터를 그룹화하세요.**\n",
        "5. **그룹화한 데이터에서 'sepal_length'의 평균을 계산하세요.**\n",
        "6. **'petal_length'를 기준으로 데이터를 오름차순으로 정렬하세요.**\n",
        "7. **'petal_width'를 기준으로 데이터를 내림차순으로 정렬하세요.**\n",
        "8. **'species'의 빈도수를 구하세요.**\n",
        "9. **'species' 값 중 'setosa'를 포함하는 행만 선택하세요.**\n",
        "10. **'species' 값이 'setosa'로 시작하는 행을 선택하세요.**\n",
        "11. **'species' 값이 'virginica'로 끝나는 행을 선택하세요.**\n",
        "12. **'species'의 'setosa'를 'SETOSA'로 대체하세요.**\n",
        "13. **Iris 데이터셋에서 'species' 열을 제거하세요.**"
      ],
      "metadata": {
        "id": "qNqtO_ZbDM6e"
      }
    },
    {
      "cell_type": "code",
      "source": [
        "import seaborn as sns\n",
        "iris = '/content/sample_data/train.csv'\n",
        "iris = sns.load_dataset('iris')\n",
        "print(iris)"
      ],
      "metadata": {
        "collapsed": true,
        "id": "W79Deh4WD1B8"
      },
      "execution_count": null,
      "outputs": []
    },
    {
      "cell_type": "code",
      "source": [
        "import pandas as pd\n",
        "\n",
        "iris.dropna(inplace=True)\n",
        "iris.drop_duplicates(inplace=True)\n",
        "iris[iris['petal_length'] > 5]\n",
        "\n",
        "grouped_iris = iris.groupby('species')\n",
        "grouped_iris['sepal_length'].mean()\n",
        "\n",
        "iris.sort_values(by='petal_length', inplace=True)\n",
        "iris.sort_values(by='petal_width', inplace=True, ascending=False)\n",
        "\n",
        "iris['species'].value_counts()\n",
        "\n",
        "iris[iris['species'] == 'setosa']\n",
        "\n",
        "iris[iris['species'].str.startswith('setosa')]\n",
        "\n",
        "iris[iris['species'].str.endswith('virginica')]\n",
        "\n",
        "iris['species'] = iris['species'].replace('setosa', 'SETOSA')\n",
        "\n",
        "iris.drop('species', axis=1, inplace=True)"
      ],
      "metadata": {
        "id": "20_rvM8bD5cZ"
      },
      "execution_count": null,
      "outputs": []
    }
  ]
}