{
 "cells": [
  {
   "cell_type": "markdown",
   "metadata": {},
   "source": [
    "### 1. 사용자 추가하기\n",
    "\n",
    "문제 : 사용자 3명을 추가해주세요"
   ]
  },
  {
   "cell_type": "markdown",
   "metadata": {},
   "source": [
    "- `username` : 박지수\n",
    "    - `email` : jisoo_2@naver.com\n",
    "    - `phone_number` : 010-2354-2234\n",
    "    - `password`(’pw123’)"
   ]
  },
  {
   "cell_type": "code",
   "execution_count": null,
   "metadata": {},
   "outputs": [],
   "source": [
    "from account.models import Account\n",
    "jisoo = Account(username='박지수', email='jisoo@naver.com', phone_number='010-2354-2234')\n",
    "jisoo.set_password('pw123')\n",
    "jisoo.save()"
   ]
  },
  {
   "cell_type": "markdown",
   "metadata": {},
   "source": [
    "- username : 강철\n",
    "    - `email` : ggch@naver.com\n",
    "    - `phone_number` : 010-1114-6443\n",
    "    - `password`(’pwpw’)"
   ]
  },
  {
   "cell_type": "code",
   "execution_count": null,
   "metadata": {},
   "outputs": [],
   "source": [
    "account = Account(username='강철', email='kang@naver.com', phone_number='010-1141-6663')\n",
    "account.set_password('pwpw')\n",
    "account.save()"
   ]
  },
  {
   "cell_type": "markdown",
   "metadata": {},
   "source": [
    "- username : 민현지\n",
    "    - `email` : master_g@gmail.com\n",
    "    - `phone_number` : 010-8495-3456"
   ]
  },
  {
   "cell_type": "code",
   "execution_count": null,
   "metadata": {},
   "outputs": [],
   "source": [
    "account = Account(username='현지', email='hg@naver.com', phone_number='010-1141-3546')\n",
    "account.save()"
   ]
  },
  {
   "cell_type": "markdown",
   "metadata": {},
   "source": [
    "### 2.특정 사용자 조회하기"
   ]
  },
  {
   "cell_type": "markdown",
   "metadata": {},
   "source": [
    "문제: '박지수' 사용자의 전체 정보를 조회하세요."
   ]
  },
  {
   "cell_type": "code",
   "execution_count": null,
   "metadata": {},
   "outputs": [],
   "source": [
    "Account.objects.get(username='박지수')"
   ]
  },
  {
   "cell_type": "markdown",
   "metadata": {},
   "source": [
    "문제 : ‘강철’ 사용자의 이메일 주소를 'steel_kang@naver.com'으로 변경해주세요"
   ]
  },
  {
   "cell_type": "code",
   "execution_count": null,
   "metadata": {},
   "outputs": [],
   "source": [
    "account = Account.objects.get(username='강철')\n",
    "account.email = 'steel_kang@naver.com'\n",
    "account.save()"
   ]
  },
  {
   "cell_type": "markdown",
   "metadata": {},
   "source": [
    "문제 : '민현지' 사용자의 비밀번호를 'newpassword'로 변경해주세요"
   ]
  },
  {
   "cell_type": "code",
   "execution_count": null,
   "metadata": {},
   "outputs": [],
   "source": [
    "account = Account.objects.get(username='민현지')\n",
    "account.set_password('newpassword')\n",
    "account.save()"
   ]
  },
  {
   "cell_type": "markdown",
   "metadata": {},
   "source": [
    "문제 : 모든 사용자의 이름과 이메일 주소 조회 후 출력해주세요"
   ]
  },
  {
   "cell_type": "code",
   "execution_count": null,
   "metadata": {},
   "outputs": [],
   "source": [
    "[(account.username, account.email) for account in Account.objects.all()]"
   ]
  },
  {
   "cell_type": "markdown",
   "metadata": {},
   "source": [
    "문제 : 전화번호가 등록된 사용자만 조회 후 출력해주세요"
   ]
  },
  {
   "cell_type": "code",
   "execution_count": null,
   "metadata": {},
   "outputs": [],
   "source": [
    "items = Account.objects.exclude(phone_number__isnull=True)\n",
    "for item in items:\n",
    "    print(item)"
   ]
  },
  {
   "cell_type": "markdown",
   "metadata": {},
   "source": [
    "문제 : 특정 이메일 도메인(@gmail.com)을 가진 사용자를 조회 후 출력해주세요"
   ]
  },
  {
   "cell_type": "code",
   "execution_count": null,
   "metadata": {},
   "outputs": [],
   "source": [
    "Account.objects.filter(email__contains=\"@gmail.com\")"
   ]
  },
  {
   "cell_type": "markdown",
   "metadata": {},
   "source": [
    "문제 : 사용자 이름에 '지'가 포함된 사용자를 조회 후 출력해주세요"
   ]
  },
  {
   "cell_type": "code",
   "execution_count": null,
   "metadata": {},
   "outputs": [],
   "source": [
    "Account.objects.filter(username__contains=\"지\")"
   ]
  },
  {
   "cell_type": "markdown",
   "metadata": {},
   "source": [
    "문제 : 최근 등록된 사용자 2명을 조회 후 출력해주세요"
   ]
  },
  {
   "cell_type": "code",
   "execution_count": null,
   "metadata": {},
   "outputs": [],
   "source": [
    "Account.objects.filter().order_by('-created_at')[:2]"
   ]
  },
  {
   "cell_type": "markdown",
   "metadata": {},
   "source": [
    "### 3.특정 사용자 조회하기\n",
    "\n",
    "1. 관계 설정된 모델에 데이터 추가하기"
   ]
  },
  {
   "cell_type": "markdown",
   "metadata": {},
   "source": [
    "- 박지수 사용자의 address 정보를 추가해주세요\n",
    "    - `user` : jisoo\n",
    "    - `street` : 23-2\n",
    "    - `city` : 서울시\n",
    "    - `state` : 영등포구\n",
    "    - `postal_code` : 04231\n",
    "    - `country` : 대한민국"
   ]
  },
  {
   "cell_type": "code",
   "execution_count": null,
   "metadata": {},
   "outputs": [],
   "source": [
    "from addresses.models import Address\n",
    "jisoo = Account.objects.filter(username='박지수').first()\n",
    "addr = Address(user=jisoo, street='23-2', city='서울시', state='영등포구', postal_code='04231', country='대한민국')\n",
    "addr.save()"
   ]
  },
  {
   "cell_type": "markdown",
   "metadata": {},
   "source": [
    "- 민현지 사용자의 address 정보를 추가해주세요\n",
    "    - `user` : hyunji\n",
    "    - `street` : 43-1\n",
    "    - `city` : 부산특별시\n",
    "    - `state` : 사직동\n",
    "    - `postal_code` : 61234\n",
    "    - `country` : 대한민국"
   ]
  },
  {
   "cell_type": "code",
   "execution_count": null,
   "metadata": {},
   "outputs": [],
   "source": [
    "hyunji = Account.objects.filter(username='민현지').first()\n",
    "addr = Address(user=hyunji, street='43-1', city='부산광역시', state='사직동', postal_code='61234', country='대한민국')\n",
    "addr.save()"
   ]
  },
  {
   "cell_type": "markdown",
   "metadata": {},
   "source": [
    "- 강철 사용자의 address 정보를 추가해주세요\n",
    "    - `user` : kang_chul\n",
    "    - `street` : 99-2\n",
    "    - `city` : 서울\n",
    "    - `state` : 강남구\n",
    "    - `postal_code` : 68975\n",
    "    - `country` : 대한민국"
   ]
  },
  {
   "cell_type": "code",
   "execution_count": null,
   "metadata": {},
   "outputs": [],
   "source": [
    "kang_chul = Account.objects.filter(username='강철').first()\n",
    "addr = Address(user=kang_chul, street='99-2', city='서울', state='강남', postal_code='61234', country='대한민국')\n",
    "addr.save()"
   ]
  },
  {
   "cell_type": "markdown",
   "metadata": {},
   "source": [
    "### 4. 관계 설정된 모델에 데이터 조회하기\n",
    "\n",
    "'박지수' 사용자에 연결된 모든 주소 정보를 조회 후 출력해주세요"
   ]
  },
  {
   "cell_type": "code",
   "execution_count": null,
   "metadata": {},
   "outputs": [],
   "source": [
    "jisoo_addr = Account.objects.filter(username=\"박지수\").first().addresses.all()\n",
    "for item in jisoo_addr:\n",
    "    print(item.user, item.city, item.street)"
   ]
  },
  {
   "cell_type": "markdown",
   "metadata": {},
   "source": [
    "### 5.사용자 정보 삭제하기\n",
    "\n",
    "‘강철’ 사용자의 장보를 삭제해주세요"
   ]
  },
  {
   "cell_type": "code",
   "execution_count": null,
   "metadata": {},
   "outputs": [],
   "source": [
    "Account.objects.filter(username='강철').first().delete()"
   ]
  }
 ],
 "metadata": {
  "language_info": {
   "name": "python"
  }
 },
 "nbformat": 4,
 "nbformat_minor": 2
}
